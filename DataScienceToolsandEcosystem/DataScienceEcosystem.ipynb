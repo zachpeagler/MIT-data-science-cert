{
 "cells": [
  {
   "cell_type": "markdown",
   "id": "e1757ff7-acee-4bae-b835-228f9c306442",
   "metadata": {},
   "source": [
    "# Data Science Tools and Ecosystem"
   ]
  },
  {
   "cell_type": "markdown",
   "id": "e2fdfa8f-ef1f-403e-a72e-94ddcf5284c4",
   "metadata": {},
   "source": [
    "In this notebook, Data Science Tools and Ecosystem are summarized."
   ]
  },
  {
   "cell_type": "markdown",
   "id": "cac65fdd-c140-443c-8edd-f0bdd75a980c",
   "metadata": {},
   "source": [
    "Some of the popular languages that Data Scientists use are:\n",
    "1. R\n",
    "2. Python\n",
    "3. C++"
   ]
  },
  {
   "cell_type": "markdown",
   "id": "b013e8be-4d62-4e68-b34c-19e7c2ff940c",
   "metadata": {},
   "source": [
    "Some of the commonly used libraries used by Data Scientists include:\n",
    "1. numPy\n",
    "2. pandas\n",
    "3. ggplot\n",
    "4. caret"
   ]
  },
  {
   "cell_type": "markdown",
   "id": "8800056c-7505-4058-baa3-33da81d9cfaf",
   "metadata": {},
   "source": [
    "| Data Science Tools |\n",
    "| ------- |\n",
    "| Rstudio |\n",
    "| Visual Studio Code |\n",
    "| Jupyter Lab |"
   ]
  },
  {
   "cell_type": "markdown",
   "id": "c0e591bb-c7f1-45d1-82ee-fa06512d145e",
   "metadata": {},
   "source": [
    "### Below are a few examples of evaluating arithmetic expressions in Python"
   ]
  },
  {
   "cell_type": "code",
   "execution_count": 9,
   "id": "1c5b16b6-81f5-4db5-a95f-08042cd5f0ba",
   "metadata": {},
   "outputs": [
    {
     "data": {
      "text/plain": [
       "17"
      ]
     },
     "execution_count": 9,
     "metadata": {},
     "output_type": "execute_result"
    }
   ],
   "source": [
    "# This is a simple arithmetic expression to multiply then add integers\n",
    "(3*4)+5"
   ]
  },
  {
   "cell_type": "code",
   "execution_count": 11,
   "id": "3042adc3-2f58-45bf-9af5-84794065a7aa",
   "metadata": {},
   "outputs": [
    {
     "data": {
      "text/plain": [
       "3.3333333333333335"
      ]
     },
     "execution_count": 11,
     "metadata": {},
     "output_type": "execute_result"
    }
   ],
   "source": [
    "# this will convert 200 minutes to hours by dividing by 60\n",
    "200 / 60"
   ]
  },
  {
   "cell_type": "markdown",
   "id": "c27bf871-4999-42e2-ac41-60c4e7784bbc",
   "metadata": {},
   "source": [
    "**Objectives:**\n",
    "- List popular languages for data science\n",
    "- Obtain a basic understanding of Jupyter notebooks\n",
    "- List popular data science libraries\n",
    "- List popular open source data science tools"
   ]
  },
  {
   "cell_type": "markdown",
   "id": "502dc4e0-bc1d-40ce-ba81-03fadc569daa",
   "metadata": {},
   "source": [
    "## Author\n",
    "Zachary Edward Peagler"
   ]
  }
 ],
 "metadata": {
  "kernelspec": {
   "display_name": "Python 3 (ipykernel)",
   "language": "python",
   "name": "python3"
  },
  "language_info": {
   "codemirror_mode": {
    "name": "ipython",
    "version": 3
   },
   "file_extension": ".py",
   "mimetype": "text/x-python",
   "name": "python",
   "nbconvert_exporter": "python",
   "pygments_lexer": "ipython3",
   "version": "3.12.7"
  }
 },
 "nbformat": 4,
 "nbformat_minor": 5
}
